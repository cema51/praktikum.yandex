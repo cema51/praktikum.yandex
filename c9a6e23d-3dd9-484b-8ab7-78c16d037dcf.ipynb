{
 "cells": [
  {
   "cell_type": "markdown",
   "metadata": {},
   "source": [
    "---\n",
    "<div class=\"alert alert-block alert-success\">\n",
    "\n",
    "## Комментарий от тимлида. \n",
    "\n",
    "<strong>Семен, поздравляю со сданным проектом!</strong>\n",
    "<p><strong>Что получилось хорошо:</strong>все исследования, категоризация и дашборд - самые интересные решения из всех, что я видела. Еще ты умеешь комментировать процесс, корректно объяснять результаты и делать интересные выводы.</p>\n",
    "<p><strong>Что можно сделать еще лучше</strong> (особенно, если ты собираешься использовать проект в портфолио): попробовать сегментацию по другим признакам (намекаю, скорей всего у нас есть сегмент \"дачники\"и им мы будем предлагать не тоже самое, что и \"городским жителям\"). Пробежаться по коду на предмет хардкора, отказоустойчивости и автоматизации. </p>\n",
    "<p></p>\n",
    "\n",
    "    \n",
    "Мне было приятно проверять твой проект, <strong> спасибо!</strong>\n",
    "    \n",
    "</div>\n",
    "\n",
    "---\n"
   ]
  },
  {
   "cell_type": "markdown",
   "metadata": {},
   "source": [
    "\n",
    "<div class=\"alert alert-block alert-info\">\n",
    "\n",
    "__Елена, привет! В работе сделан анализ без рекомендаций и с мини-выводами, нет гипотез. Все дополню и сделаю после твоего одобрения)__\n",
    "\n",
    "Еще у меня вопросы:\n",
    "1. Категории я парсил и исправлял в другой тетрадке, тебе нужно показывать этот код?\n",
    "2. Мне прямо сейчас говорить, что я буду дашборд делать?\n",
    "    \n",
    "</div>"
   ]
  },
  {
   "cell_type": "markdown",
   "metadata": {},
   "source": [
    "---\n",
    "<div class=\"alert alert-block alert-info\">\n",
    "\n",
    "## Комментарий от тимлида\n",
    "\n",
    "Семен, привет!\n",
    "    <p>Давай вначале на твои вопросы отвечу:  1. Если хочешь, покажи, но на слово я тоже верю и у тебя вау!-идея, впервые встречаю такое решение в работах.</p>\n",
    "    <p>2. Скажи про дашборд до того, как я окончательно приму работу, а то придется тебе потом меня ловить через куратора.</p>\n",
    "    <p> С моей стороны: работа  <strong> очень!</strong> крутая, есть только вопросы к сегментации: \n",
    "- почему 3 кластера? \n",
    "- видишь, что 0 кластер практически всех покупателей на себя взял? \n",
    "- может быть, стоит оптовиков отрезать?</p>\n",
    "<p>П.С. Код упал на графиках в нескольких местах :(</p>\n",
    "    \n",
    "</div>\n",
    "\n",
    "---"
   ]
  },
  {
   "cell_type": "markdown",
   "metadata": {},
   "source": [
    "<div class=\"alert alert-block alert-info\">\n",
    " Елена, привет! Прости за графики, забыл, что лучше обновлять)) \n",
    "    \n",
    " Считаю, что 3 кластера - самый правильный выбор, если поставить взять перцентиль по заказам в 99,5 (исключаем аномальные вантузы). При таком количестве кластеров Silhouette ближе всех к 1, да и сама дендограмма отображает три кластера)\n",
    "</div>"
   ]
  },
  {
   "cell_type": "markdown",
   "metadata": {},
   "source": [
    "# Выявление профилей потребления"
   ]
  },
  {
   "cell_type": "markdown",
   "metadata": {},
   "source": [
    "# Материалы:\n",
    "[Дашборд](https://vk.cc/c1c4iL)\n",
    "\n",
    "[Презентация](https://drive.google.com/file/d/1Ii_HTG5t0wOcRygJQqyd7qd2og6TlSli/view?usp=sharing)\n",
    "\n",
    "\n",
    "# Рекомендации:\n",
    "\n",
    "* __Дорогие покупатели в пропорции на человека приносят наибольший доход - 4341 рублей__. При этом среднее количество заказов на 1 человека 1,14. Необходимо проверить качество товаров или ввести дисконтную программу, чтобы люди чаще возвращались за покупками\n",
    "\n",
    "* __Обычные покупатели в пропорции на одного человека приносят наименьший доход - 757 рублей__, но из-за большого количества таких покупателей - они являются самым доходным кластером\n",
    "\n",
    "* __Оптовики почти никогда не заказывают повторно__. Возможно стоит предложить им \"оптовые цены\" за определенное количество товаров, чтобы они чаще возвращались, поскольку на оптовики в среднем на одного человека(организацию) приносят 2200 рублей\n",
    "\n",
    "* __На главной странице и на странице карточки товара создать блок с товарами \"Рекомендуем\"__, где будут отображаться товары в зависимости от дня, часа, сезона\n",
    "\n",
    "* __Для каждого человека создать собственную ленту рекомендаций__ в зависимости от кластера, средней цены покупки, предпочитаемой категории\n",
    "\n",
    "* Почти все сезоны, кроме осени и лета, имеют статистически одинаковые чеки. При этом осенью заказов больше, поэтому прибыль осенью больше, чем летом\n",
    "\n",
    "* Чек статистически отличается в первой и второй половине дня. По наблюдаемым значения чек во второй половине дня примерно на 10% больше\n",
    "\n",
    "\n",
    "\n",
    "# План: \n",
    "<a id = \"section1\"></a>\n",
    "1. [Импорт библиотек для работы](#step1)\n",
    "2. [Загрузка и предобработка](#step2)\n",
    "3. [Анализ данных](#step3)\n",
    "\n",
    "    1. [Соединим категории и товары](#step3)\n",
    "    2. [Выделим час, день недели, сезон](#step4)\n",
    "    3. [Количество проданных товаров по категориям](#step5)\n",
    "    4. [Выручка по категориям](#step6)\n",
    "    5. [Количество проданных товаров по категориям по часам](#step7)\n",
    "    6. [Количество проданных товаров по категориям по дням недели](#step8)\n",
    "    7. [Количество проданных товаров по категориям по сезонам](#step9)\n",
    "    \n",
    "4. [Кластеризация](#step10)\n",
    "    1.[Выделим и охарактеризуем кластеры](#step10)\n",
    "    2.[Система рекомендаций](#step11)\n",
    "5. [Гипотезы](#step12)\n",
    "6. [Выводы и рекомендации](#step13)\n",
    "\n",
    "\n",
    "\n",
    "## Описание данных\n",
    "\n",
    "Заказчик предоставил файл в `ecommerce_dataset.csv`. Данные содержат информацию о заказах клиентов на сайте. Необходимо составить типичные сегменты, чтобы создать релеватную систему рекомендаций\n",
    "\n",
    "Колонки в `ecommerce_dataset.csv`:\n",
    "\n",
    "- `date` — дата заказа;\n",
    "- `customer_id` — идентификатор покупателя;\n",
    "- `order_id` — идентификатор заказа;\n",
    "- `product` — наименование товара;\n",
    "- `quantity` — количество товара в заказе;\n",
    "- `price` — цена товара.\n",
    "\n",
    "______"
   ]
  },
  {
   "cell_type": "markdown",
   "metadata": {},
   "source": [
    "# 1. Импорт библиотек для работы\n",
    "<a id=\"step1\"></a>\n",
    "<a href = '#section1'>Вернуться к оглавлению</a>"
   ]
  },
  {
   "cell_type": "code",
   "execution_count": 1,
   "metadata": {},
   "outputs": [],
   "source": [
    "import pandas as pd\n",
    "import plotly.express as px\n",
    "import matplotlib.pyplot as plt\n",
    "\n",
    "from scipy import stats as st\n",
    "import numpy as np\n",
    "\n",
    "import requests \n",
    "from io import BytesIO\n",
    "\n",
    "from sklearn.preprocessing import StandardScaler\n",
    "from scipy.cluster.hierarchy import dendrogram, linkage\n",
    "from sklearn.cluster import KMeans\n",
    "\n",
    "from sklearn.metrics import silhouette_score\n",
    "\n",
    "import warnings\n",
    "warnings.filterwarnings(\"ignore\")"
   ]
  },
  {
   "cell_type": "markdown",
   "metadata": {},
   "source": [
    "Библиотеки загрузили, посмотрим данные"
   ]
  },
  {
   "cell_type": "markdown",
   "metadata": {},
   "source": [
    "# 2. Загрузка и предобработка\n",
    "<a id=\"step2\"></a>\n",
    "<a href = '#section1'>Вернуться к оглавлению</a>"
   ]
  },
  {
   "cell_type": "code",
   "execution_count": 2,
   "metadata": {
    "scrolled": true
   },
   "outputs": [
    {
     "data": {
      "text/html": [
       "<div>\n",
       "<style scoped>\n",
       "    .dataframe tbody tr th:only-of-type {\n",
       "        vertical-align: middle;\n",
       "    }\n",
       "\n",
       "    .dataframe tbody tr th {\n",
       "        vertical-align: top;\n",
       "    }\n",
       "\n",
       "    .dataframe thead th {\n",
       "        text-align: right;\n",
       "    }\n",
       "</style>\n",
       "<table border=\"1\" class=\"dataframe\">\n",
       "  <thead>\n",
       "    <tr style=\"text-align: right;\">\n",
       "      <th></th>\n",
       "      <th></th>\n",
       "      <th></th>\n",
       "      <th></th>\n",
       "      <th></th>\n",
       "      <th></th>\n",
       "      <th>&lt;!DOCTYPE html&gt;&lt;html lang=\"en\"&gt;&lt;head&gt;&lt;meta name=\"description\" content=\"Web word processing</th>\n",
       "      <th>presentations and spreadsheets\"&gt;&lt;meta name=\"viewport\" content=\"width=device-width</th>\n",
       "      <th>initial-scale=1.0</th>\n",
       "      <th>maximum-scale=1.0</th>\n",
       "      <th>minimum-scale=1.0</th>\n",
       "      <th>user-scalable=0\"&gt;&lt;link rel=\"shortcut icon\" href=\"//docs.google.com/favicon.ico\"&gt;&lt;title&gt;Page Not Found&lt;/title&gt;&lt;meta name=\"referrer\" content=\"origin\"&gt;&lt;link href=\"//fonts.googleapis.com/css?family=Product+Sans\" rel=\"stylesheet\" type=\"text/css\" nonce=\"wEgLKZsRE6BFpafDWcQFgg\"&gt;&lt;style nonce=\"wEgLKZsRE6BFpafDWcQFgg\"&gt;/* Copyright 2021 Google Inc. All Rights Reserved. */</th>\n",
       "    </tr>\n",
       "  </thead>\n",
       "  <tbody>\n",
       "    <tr>\n",
       "      <td>.goog-inline-block{position:relative;display:-moz-inline-box;display:inline-block}* html .goog-inline-block{display:inline}*:first-child+html .goog-inline-block{display:inline}#drive-logo{margin:18px 0;position:absolute;white-space:nowrap}.docs-drivelogo-img{background-image:url('//ssl.gstatic.com/images/branding/googlelogo/1x/googlelogo_color_116x41dp.png');background-size:116px 41px;display:inline-block;height:41px;vertical-align:bottom;width:116px}.docs-drivelogo-text{color:#000;display:inline-block;opacity:0.54;text-decoration:none;font-family:'Product Sans'</td>\n",
       "      <td>Arial</td>\n",
       "      <td>Helvetica</td>\n",
       "      <td>sans-serif;font-size:32px;text-rendering:optimizeLegibility;position:relative;top:-6px;left:-7px;-webkit-font-smoothing:antialiased;-moz-osx-font-smoothing:grayscale}@media (-webkit-min-device-pixel-ratio:1.5)</td>\n",
       "      <td>(min-resolution:144dpi){.docs-drivelogo-img{background-image:url('//ssl.gstatic.com/images/branding/googlelogo/2x/googlelogo_color_116x41dp.png')}}&lt;/style&gt;&lt;style type=\"text/css\" nonce=\"wEgLKZsRE6BFpafDWcQFgg\"&gt;body {background-color: #fff; font-family: Arial</td>\n",
       "      <td>sans-serif; font-size: 13px; margin: 0; padding: 0;}a</td>\n",
       "      <td>a:link</td>\n",
       "      <td>a:visited {color: #112ABB;}&lt;/style&gt;&lt;style typ...</td>\n",
       "      <td>unable to open the file at this time.&lt;/p&gt;&lt;p&gt; ...</td>\n",
       "      <td>store and share online documents</td>\n",
       "      <td>spreadsheets</td>\n",
       "      <td>presentations and more.&lt;/p&gt;&lt;p&gt;Learn more at &lt;...</td>\n",
       "    </tr>\n",
       "  </tbody>\n",
       "</table>\n",
       "</div>"
      ],
      "text/plain": [
       "                                                                                                                                                                                                                            <!DOCTYPE html><html lang=\"en\"><head><meta name=\"description\" content=\"Web word processing  \\\n",
       ".goog-inline-block{position:relative;display:-m... Arial Helvetica sans-serif;font-size:32px;text-rendering:optimi... (min-resolution:144dpi){.docs-drivelogo-img{bac... sans-serif; font-size: 13px; margin: 0; padding...                                             a:link                                           \n",
       "\n",
       "                                                                                                                                                                                                                             presentations and spreadsheets\"><meta name=\"viewport\" content=\"width=device-width  \\\n",
       ".goog-inline-block{position:relative;display:-m... Arial Helvetica sans-serif;font-size:32px;text-rendering:optimi... (min-resolution:144dpi){.docs-drivelogo-img{bac... sans-serif; font-size: 13px; margin: 0; padding...   a:visited {color: #112ABB;}</style><style typ...                                   \n",
       "\n",
       "                                                                                                                                                                                                                                                             initial-scale=1.0  \\\n",
       ".goog-inline-block{position:relative;display:-m... Arial Helvetica sans-serif;font-size:32px;text-rendering:optimi... (min-resolution:144dpi){.docs-drivelogo-img{bac... sans-serif; font-size: 13px; margin: 0; padding...   unable to open the file at this time.</p><p> ...   \n",
       "\n",
       "                                                                                                                                                                                                                                             maximum-scale=1.0  \\\n",
       ".goog-inline-block{position:relative;display:-m... Arial Helvetica sans-serif;font-size:32px;text-rendering:optimi... (min-resolution:144dpi){.docs-drivelogo-img{bac... sans-serif; font-size: 13px; margin: 0; padding...   store and share online documents   \n",
       "\n",
       "                                                                                                                                                                                                                             minimum-scale=1.0  \\\n",
       ".goog-inline-block{position:relative;display:-m... Arial Helvetica sans-serif;font-size:32px;text-rendering:optimi... (min-resolution:144dpi){.docs-drivelogo-img{bac... sans-serif; font-size: 13px; margin: 0; padding...       spreadsheets   \n",
       "\n",
       "                                                                                                                                                                                                                             user-scalable=0\"><link rel=\"shortcut icon\" href=\"//docs.google.com/favicon.ico\"><title>Page Not Found</title><meta name=\"referrer\" content=\"origin\"><link href=\"//fonts.googleapis.com/css?family=Product+Sans\" rel=\"stylesheet\" type=\"text/css\" nonce=\"wEgLKZsRE6BFpafDWcQFgg\"><style nonce=\"wEgLKZsRE6BFpafDWcQFgg\">/* Copyright 2021 Google Inc. All Rights Reserved. */  \n",
       ".goog-inline-block{position:relative;display:-m... Arial Helvetica sans-serif;font-size:32px;text-rendering:optimi... (min-resolution:144dpi){.docs-drivelogo-img{bac... sans-serif; font-size: 13px; margin: 0; padding...   presentations and more.</p><p>Learn more at <...                                                                                                                                                                                                                                                                                                                            "
      ]
     },
     "execution_count": 2,
     "metadata": {},
     "output_type": "execute_result"
    }
   ],
   "source": [
    "spreadsheet_id = '1g3XSHMzfF16h8YuxGvZcSGAyFTjV3GpAY5bE3qmnK7Q'\n",
    "file_name = 'https://docs.google.com/spreadsheets/d/{}/export?format=csv'.format(spreadsheet_id)\n",
    "r = requests.get(file_name)\n",
    "df = pd.read_csv(BytesIO(r.content))\n",
    "    \n",
    "df.head(60)"
   ]
  },
  {
   "cell_type": "markdown",
   "metadata": {},
   "source": [
    "Общая информация о таблице"
   ]
  },
  {
   "cell_type": "code",
   "execution_count": 3,
   "metadata": {},
   "outputs": [
    {
     "name": "stdout",
     "output_type": "stream",
     "text": [
      "<class 'pandas.core.frame.DataFrame'>\n",
      "MultiIndex: 1 entries, (.goog-inline-block{position:relative;display:-moz-inline-box;display:inline-block}* html .goog-inline-block{display:inline}*:first-child+html .goog-inline-block{display:inline}#drive-logo{margin:18px 0;position:absolute;white-space:nowrap}.docs-drivelogo-img{background-image:url('//ssl.gstatic.com/images/branding/googlelogo/1x/googlelogo_color_116x41dp.png');background-size:116px 41px;display:inline-block;height:41px;vertical-align:bottom;width:116px}.docs-drivelogo-text{color:#000;display:inline-block;opacity:0.54;text-decoration:none;font-family:'Product Sans', Arial, Helvetica, sans-serif;font-size:32px;text-rendering:optimizeLegibility;position:relative;top:-6px;left:-7px;-webkit-font-smoothing:antialiased;-moz-osx-font-smoothing:grayscale}@media (-webkit-min-device-pixel-ratio:1.5), (min-resolution:144dpi){.docs-drivelogo-img{background-image:url('//ssl.gstatic.com/images/branding/googlelogo/2x/googlelogo_color_116x41dp.png')}}</style><style type=\"text/css\" nonce=\"wEgLKZsRE6BFpafDWcQFgg\">body {background-color: #fff; font-family: Arial, sans-serif; font-size: 13px; margin: 0; padding: 0;}a) to (.goog-inline-block{position:relative;display:-moz-inline-box;display:inline-block}* html .goog-inline-block{display:inline}*:first-child+html .goog-inline-block{display:inline}#drive-logo{margin:18px 0;position:absolute;white-space:nowrap}.docs-drivelogo-img{background-image:url('//ssl.gstatic.com/images/branding/googlelogo/1x/googlelogo_color_116x41dp.png');background-size:116px 41px;display:inline-block;height:41px;vertical-align:bottom;width:116px}.docs-drivelogo-text{color:#000;display:inline-block;opacity:0.54;text-decoration:none;font-family:'Product Sans', Arial, Helvetica, sans-serif;font-size:32px;text-rendering:optimizeLegibility;position:relative;top:-6px;left:-7px;-webkit-font-smoothing:antialiased;-moz-osx-font-smoothing:grayscale}@media (-webkit-min-device-pixel-ratio:1.5), (min-resolution:144dpi){.docs-drivelogo-img{background-image:url('//ssl.gstatic.com/images/branding/googlelogo/2x/googlelogo_color_116x41dp.png')}}</style><style type=\"text/css\" nonce=\"wEgLKZsRE6BFpafDWcQFgg\">body {background-color: #fff; font-family: Arial, sans-serif; font-size: 13px; margin: 0; padding: 0;}a)\n",
      "Data columns (total 6 columns):\n",
      "<!DOCTYPE html><html lang=\"en\"><head><meta name=\"description\" content=\"Web word processing                                                                                                                                                                                                                                                                                      1 non-null object\n",
      " presentations and spreadsheets\"><meta name=\"viewport\" content=\"width=device-width                                                                                                                                                                                                                                                                                              1 non-null object\n",
      " initial-scale=1.0                                                                                                                                                                                                                                                                                                                                                              1 non-null object\n",
      " maximum-scale=1.0                                                                                                                                                                                                                                                                                                                                                              1 non-null object\n",
      " minimum-scale=1.0                                                                                                                                                                                                                                                                                                                                                              1 non-null object\n",
      " user-scalable=0\"><link rel=\"shortcut icon\" href=\"//docs.google.com/favicon.ico\"><title>Page Not Found</title><meta name=\"referrer\" content=\"origin\"><link href=\"//fonts.googleapis.com/css?family=Product+Sans\" rel=\"stylesheet\" type=\"text/css\" nonce=\"wEgLKZsRE6BFpafDWcQFgg\"><style nonce=\"wEgLKZsRE6BFpafDWcQFgg\">/* Copyright 2021 Google Inc. All Rights Reserved. */    1 non-null object\n",
      "dtypes: object(6)\n",
      "memory usage: 198.0+ bytes\n"
     ]
    }
   ],
   "source": [
    "df.info()"
   ]
  },
  {
   "cell_type": "markdown",
   "metadata": {},
   "source": [
    "Нужно поменять колонку \"дата\" в формат даты. Перевести цену в int (целое число), поскольку нет дробных чисел"
   ]
  },
  {
   "cell_type": "code",
   "execution_count": 4,
   "metadata": {},
   "outputs": [
    {
     "ename": "KeyError",
     "evalue": "'price'",
     "output_type": "error",
     "traceback": [
      "\u001b[0;31m---------------------------------------------------------------------------\u001b[0m",
      "\u001b[0;31mKeyError\u001b[0m                                  Traceback (most recent call last)",
      "\u001b[0;32m/opt/conda/lib/python3.7/site-packages/pandas/core/indexes/base.py\u001b[0m in \u001b[0;36mget_loc\u001b[0;34m(self, key, method, tolerance)\u001b[0m\n\u001b[1;32m   2896\u001b[0m             \u001b[0;32mtry\u001b[0m\u001b[0;34m:\u001b[0m\u001b[0;34m\u001b[0m\u001b[0;34m\u001b[0m\u001b[0m\n\u001b[0;32m-> 2897\u001b[0;31m                 \u001b[0;32mreturn\u001b[0m \u001b[0mself\u001b[0m\u001b[0;34m.\u001b[0m\u001b[0m_engine\u001b[0m\u001b[0;34m.\u001b[0m\u001b[0mget_loc\u001b[0m\u001b[0;34m(\u001b[0m\u001b[0mkey\u001b[0m\u001b[0;34m)\u001b[0m\u001b[0;34m\u001b[0m\u001b[0;34m\u001b[0m\u001b[0m\n\u001b[0m\u001b[1;32m   2898\u001b[0m             \u001b[0;32mexcept\u001b[0m \u001b[0mKeyError\u001b[0m\u001b[0;34m:\u001b[0m\u001b[0;34m\u001b[0m\u001b[0;34m\u001b[0m\u001b[0m\n",
      "\u001b[0;32mpandas/_libs/index.pyx\u001b[0m in \u001b[0;36mpandas._libs.index.IndexEngine.get_loc\u001b[0;34m()\u001b[0m\n",
      "\u001b[0;32mpandas/_libs/index.pyx\u001b[0m in \u001b[0;36mpandas._libs.index.IndexEngine.get_loc\u001b[0;34m()\u001b[0m\n",
      "\u001b[0;32mpandas/_libs/hashtable_class_helper.pxi\u001b[0m in \u001b[0;36mpandas._libs.hashtable.PyObjectHashTable.get_item\u001b[0;34m()\u001b[0m\n",
      "\u001b[0;32mpandas/_libs/hashtable_class_helper.pxi\u001b[0m in \u001b[0;36mpandas._libs.hashtable.PyObjectHashTable.get_item\u001b[0;34m()\u001b[0m\n",
      "\u001b[0;31mKeyError\u001b[0m: 'price'",
      "\nDuring handling of the above exception, another exception occurred:\n",
      "\u001b[0;31mKeyError\u001b[0m                                  Traceback (most recent call last)",
      "\u001b[0;32m<ipython-input-4-7931154f34e1>\u001b[0m in \u001b[0;36m<module>\u001b[0;34m\u001b[0m\n\u001b[1;32m      1\u001b[0m \u001b[0;31m# преобразуем цену и дату в соответствующий формат\u001b[0m\u001b[0;34m\u001b[0m\u001b[0;34m\u001b[0m\u001b[0;34m\u001b[0m\u001b[0m\n\u001b[0;32m----> 2\u001b[0;31m \u001b[0mdf\u001b[0m\u001b[0;34m[\u001b[0m\u001b[0;34m'price'\u001b[0m\u001b[0;34m]\u001b[0m \u001b[0;34m=\u001b[0m \u001b[0mdf\u001b[0m\u001b[0;34m[\u001b[0m\u001b[0;34m'price'\u001b[0m\u001b[0;34m]\u001b[0m\u001b[0;34m.\u001b[0m\u001b[0mastype\u001b[0m\u001b[0;34m(\u001b[0m\u001b[0;34m'int'\u001b[0m\u001b[0;34m)\u001b[0m\u001b[0;34m\u001b[0m\u001b[0;34m\u001b[0m\u001b[0m\n\u001b[0m\u001b[1;32m      3\u001b[0m \u001b[0mdf\u001b[0m\u001b[0;34m[\u001b[0m\u001b[0;34m'date'\u001b[0m\u001b[0;34m]\u001b[0m \u001b[0;34m=\u001b[0m \u001b[0mpd\u001b[0m\u001b[0;34m.\u001b[0m\u001b[0mto_datetime\u001b[0m\u001b[0;34m(\u001b[0m\u001b[0mdf\u001b[0m\u001b[0;34m[\u001b[0m\u001b[0;34m'date'\u001b[0m\u001b[0;34m]\u001b[0m\u001b[0;34m,\u001b[0m \u001b[0mformat\u001b[0m\u001b[0;34m=\u001b[0m\u001b[0;34m'%Y%m%d%H'\u001b[0m\u001b[0;34m)\u001b[0m\u001b[0;34m\u001b[0m\u001b[0;34m\u001b[0m\u001b[0m\n",
      "\u001b[0;32m/opt/conda/lib/python3.7/site-packages/pandas/core/frame.py\u001b[0m in \u001b[0;36m__getitem__\u001b[0;34m(self, key)\u001b[0m\n\u001b[1;32m   2978\u001b[0m             \u001b[0;32mif\u001b[0m \u001b[0mself\u001b[0m\u001b[0;34m.\u001b[0m\u001b[0mcolumns\u001b[0m\u001b[0;34m.\u001b[0m\u001b[0mnlevels\u001b[0m \u001b[0;34m>\u001b[0m \u001b[0;36m1\u001b[0m\u001b[0;34m:\u001b[0m\u001b[0;34m\u001b[0m\u001b[0;34m\u001b[0m\u001b[0m\n\u001b[1;32m   2979\u001b[0m                 \u001b[0;32mreturn\u001b[0m \u001b[0mself\u001b[0m\u001b[0;34m.\u001b[0m\u001b[0m_getitem_multilevel\u001b[0m\u001b[0;34m(\u001b[0m\u001b[0mkey\u001b[0m\u001b[0;34m)\u001b[0m\u001b[0;34m\u001b[0m\u001b[0;34m\u001b[0m\u001b[0m\n\u001b[0;32m-> 2980\u001b[0;31m             \u001b[0mindexer\u001b[0m \u001b[0;34m=\u001b[0m \u001b[0mself\u001b[0m\u001b[0;34m.\u001b[0m\u001b[0mcolumns\u001b[0m\u001b[0;34m.\u001b[0m\u001b[0mget_loc\u001b[0m\u001b[0;34m(\u001b[0m\u001b[0mkey\u001b[0m\u001b[0;34m)\u001b[0m\u001b[0;34m\u001b[0m\u001b[0;34m\u001b[0m\u001b[0m\n\u001b[0m\u001b[1;32m   2981\u001b[0m             \u001b[0;32mif\u001b[0m \u001b[0mis_integer\u001b[0m\u001b[0;34m(\u001b[0m\u001b[0mindexer\u001b[0m\u001b[0;34m)\u001b[0m\u001b[0;34m:\u001b[0m\u001b[0;34m\u001b[0m\u001b[0;34m\u001b[0m\u001b[0m\n\u001b[1;32m   2982\u001b[0m                 \u001b[0mindexer\u001b[0m \u001b[0;34m=\u001b[0m \u001b[0;34m[\u001b[0m\u001b[0mindexer\u001b[0m\u001b[0;34m]\u001b[0m\u001b[0;34m\u001b[0m\u001b[0;34m\u001b[0m\u001b[0m\n",
      "\u001b[0;32m/opt/conda/lib/python3.7/site-packages/pandas/core/indexes/base.py\u001b[0m in \u001b[0;36mget_loc\u001b[0;34m(self, key, method, tolerance)\u001b[0m\n\u001b[1;32m   2897\u001b[0m                 \u001b[0;32mreturn\u001b[0m \u001b[0mself\u001b[0m\u001b[0;34m.\u001b[0m\u001b[0m_engine\u001b[0m\u001b[0;34m.\u001b[0m\u001b[0mget_loc\u001b[0m\u001b[0;34m(\u001b[0m\u001b[0mkey\u001b[0m\u001b[0;34m)\u001b[0m\u001b[0;34m\u001b[0m\u001b[0;34m\u001b[0m\u001b[0m\n\u001b[1;32m   2898\u001b[0m             \u001b[0;32mexcept\u001b[0m \u001b[0mKeyError\u001b[0m\u001b[0;34m:\u001b[0m\u001b[0;34m\u001b[0m\u001b[0;34m\u001b[0m\u001b[0m\n\u001b[0;32m-> 2899\u001b[0;31m                 \u001b[0;32mreturn\u001b[0m \u001b[0mself\u001b[0m\u001b[0;34m.\u001b[0m\u001b[0m_engine\u001b[0m\u001b[0;34m.\u001b[0m\u001b[0mget_loc\u001b[0m\u001b[0;34m(\u001b[0m\u001b[0mself\u001b[0m\u001b[0;34m.\u001b[0m\u001b[0m_maybe_cast_indexer\u001b[0m\u001b[0;34m(\u001b[0m\u001b[0mkey\u001b[0m\u001b[0;34m)\u001b[0m\u001b[0;34m)\u001b[0m\u001b[0;34m\u001b[0m\u001b[0;34m\u001b[0m\u001b[0m\n\u001b[0m\u001b[1;32m   2900\u001b[0m         \u001b[0mindexer\u001b[0m \u001b[0;34m=\u001b[0m \u001b[0mself\u001b[0m\u001b[0;34m.\u001b[0m\u001b[0mget_indexer\u001b[0m\u001b[0;34m(\u001b[0m\u001b[0;34m[\u001b[0m\u001b[0mkey\u001b[0m\u001b[0;34m]\u001b[0m\u001b[0;34m,\u001b[0m \u001b[0mmethod\u001b[0m\u001b[0;34m=\u001b[0m\u001b[0mmethod\u001b[0m\u001b[0;34m,\u001b[0m \u001b[0mtolerance\u001b[0m\u001b[0;34m=\u001b[0m\u001b[0mtolerance\u001b[0m\u001b[0;34m)\u001b[0m\u001b[0;34m\u001b[0m\u001b[0;34m\u001b[0m\u001b[0m\n\u001b[1;32m   2901\u001b[0m         \u001b[0;32mif\u001b[0m \u001b[0mindexer\u001b[0m\u001b[0;34m.\u001b[0m\u001b[0mndim\u001b[0m \u001b[0;34m>\u001b[0m \u001b[0;36m1\u001b[0m \u001b[0;32mor\u001b[0m \u001b[0mindexer\u001b[0m\u001b[0;34m.\u001b[0m\u001b[0msize\u001b[0m \u001b[0;34m>\u001b[0m \u001b[0;36m1\u001b[0m\u001b[0;34m:\u001b[0m\u001b[0;34m\u001b[0m\u001b[0;34m\u001b[0m\u001b[0m\n",
      "\u001b[0;32mpandas/_libs/index.pyx\u001b[0m in \u001b[0;36mpandas._libs.index.IndexEngine.get_loc\u001b[0;34m()\u001b[0m\n",
      "\u001b[0;32mpandas/_libs/index.pyx\u001b[0m in \u001b[0;36mpandas._libs.index.IndexEngine.get_loc\u001b[0;34m()\u001b[0m\n",
      "\u001b[0;32mpandas/_libs/hashtable_class_helper.pxi\u001b[0m in \u001b[0;36mpandas._libs.hashtable.PyObjectHashTable.get_item\u001b[0;34m()\u001b[0m\n",
      "\u001b[0;32mpandas/_libs/hashtable_class_helper.pxi\u001b[0m in \u001b[0;36mpandas._libs.hashtable.PyObjectHashTable.get_item\u001b[0;34m()\u001b[0m\n",
      "\u001b[0;31mKeyError\u001b[0m: 'price'"
     ]
    }
   ],
   "source": [
    "# преобразуем цену и дату в соответствующий формат\n",
    "df['price'] = df['price'].astype('int')\n",
    "df['date'] = pd.to_datetime(df['date'], format='%Y%m%d%H')"
   ]
  },
  {
   "cell_type": "markdown",
   "metadata": {},
   "source": [
    "Проверим на явные дубликаты"
   ]
  },
  {
   "cell_type": "code",
   "execution_count": null,
   "metadata": {
    "scrolled": true
   },
   "outputs": [],
   "source": [
    "df.duplicated().sum()"
   ]
  },
  {
   "cell_type": "markdown",
   "metadata": {},
   "source": [
    "Явных дубликатов нет\n",
    "\n",
    "Посчитаем количество уникальных товаров"
   ]
  },
  {
   "cell_type": "code",
   "execution_count": null,
   "metadata": {},
   "outputs": [],
   "source": [
    "df['product'].nunique()"
   ]
  },
  {
   "cell_type": "markdown",
   "metadata": {},
   "source": [
    "2343 уникальных товара в имеющихся логах\n",
    "\n",
    "Выведем общую числовую информацию о таблице"
   ]
  },
  {
   "cell_type": "code",
   "execution_count": null,
   "metadata": {},
   "outputs": [],
   "source": [
    "df.describe()"
   ]
  },
  {
   "cell_type": "markdown",
   "metadata": {},
   "source": [
    "Есть дорогие и большие заказы. Удалять их не будем, потому что нам важны любые действия клиентов\n",
    "\n",
    "При выделении кластеров, возможно, придется удалить некоторые аномальные значения\n",
    "\n",
    "Проверим таблицу на неявные дубликаты. Проверим дубликаты без указания даты"
   ]
  },
  {
   "cell_type": "code",
   "execution_count": null,
   "metadata": {},
   "outputs": [],
   "source": [
    "df_nodate = df.drop('date', axis=1)\n",
    "\n",
    "df_nodate[df_nodate.duplicated() == True].head(30)"
   ]
  },
  {
   "cell_type": "markdown",
   "metadata": {},
   "source": [
    "Довольно много дубликатов. Есть предположение, что это не покупка, а движение заказа. От склада к логистике, от логистике до пункта выдачи и тд\n",
    "\n",
    "Поскольку нет определенных границ, успешным заказом будем считать первое его появление в логах. Если человек нажал на кнопку \"Оформить заказ\", он твердо уверен в необходимости этих предметов. Задача стоит в обнаружении интересов пользователей, то есть уверенных \"хочу оформить заказ\"\n",
    "\n",
    "Посчитаем общий чек заказа и удалим неявные дубликаты. Вернее, оставим только первую запись о них"
   ]
  },
  {
   "cell_type": "code",
   "execution_count": null,
   "metadata": {},
   "outputs": [],
   "source": [
    "# общий чек заказа\n",
    "df['total_check'] = df['quantity'] * df['price']\n",
    "\n",
    "# сохраним размер старой таблицы\n",
    "old_df_shape = df.shape[0]\n",
    "\n",
    "# удалим дубликаты\n",
    "df = df.drop_duplicates(subset=['customer_id', 'order_id', 'product', 'quantity'], keep='first')\n",
    "\n",
    "print('В результате удаления неявных дубликатов')\n",
    "print('- Размер таблицы уменьшился на {:.0f} строчек'.format(old_df_shape-df.shape[0]))\n",
    "print ('- Таблица уменьшилась на {:.2%}'.format(1-df.shape[0]/old_df_shape))\n",
    "\n",
    "# заодно посмотрим на заказы с большим количеством предметов\n",
    "df.sort_values(by='quantity', ascending=False).head(10)"
   ]
  },
  {
   "cell_type": "markdown",
   "metadata": {},
   "source": [
    "Удалили дубликатные строки"
   ]
  },
  {
   "cell_type": "markdown",
   "metadata": {},
   "source": [
    "_______"
   ]
  },
  {
   "cell_type": "markdown",
   "metadata": {},
   "source": [
    "# Анализ данных"
   ]
  },
  {
   "cell_type": "markdown",
   "metadata": {},
   "source": [
    "## Соединим категории и товары\n",
    "<a id=\"step3\"></a>\n",
    "<a href = '#section1'>Вернуться к оглавлению</a>"
   ]
  },
  {
   "cell_type": "markdown",
   "metadata": {},
   "source": [
    "Категории товаров были подобраны по интернет-магазину [1d.ru](1d.ru)\n",
    "\n",
    "Ссылка на https://pastebin.com/bQUy9jPx с алгоритмом заполнения категорий \n",
    "\n",
    "1. Каждый уникальный товар вводился в строку поиска, потом компьютер собирал данные о категории товара\n",
    "2. Затем был составлен словарь \"лемма первого слова - категория\". Пропущенные значения были заполнены с помощью этого словаря\n",
    "3. Значения, которые остались пропущенными, были заполнены вручную (около 60 уникальных товаров)\n",
    "4. Поскольку категории были очень подробные и через латиницу, мы объединили похожие категории в одну большую\n",
    "5. Все загрузили в Гугл.Диск\n",
    "\n",
    "Загрузим данные из гугл.диска и посмотрим на них"
   ]
  },
  {
   "cell_type": "code",
   "execution_count": null,
   "metadata": {},
   "outputs": [],
   "source": [
    "# из гугл диска выгрузим заранее подготовленные данные\n",
    "spreadsheet_id = '1hfoDaKqc7bOAmevX4dTpeKOa2z0OE0s-7AP7btwQ0j8'\n",
    "file_name = 'https://docs.google.com/spreadsheets/d/{}/export?format=csv'.format(spreadsheet_id)\n",
    "r = requests.get(file_name)\n",
    "data_parsed = pd.read_csv(BytesIO(r.content))\n",
    "data_parsed = data_parsed[['product', 'category', 'big_category']]\n",
    "\n",
    "data_parsed"
   ]
  },
  {
   "cell_type": "markdown",
   "metadata": {},
   "source": [
    "Соединим данные с логами покупок, чтобы присвоить товарам категории \n",
    "\n",
    "Также выделим час покупки и день недели для дальнейшего анализа"
   ]
  },
  {
   "cell_type": "markdown",
   "metadata": {},
   "source": [
    "## Выделим час, день недели, сезон\n",
    "<a id=\"step4\"></a>\n",
    "<a href = '#section1'>Вернуться к оглавлению</a>"
   ]
  },
  {
   "cell_type": "code",
   "execution_count": null,
   "metadata": {
    "scrolled": false
   },
   "outputs": [],
   "source": [
    "# соединим данные\n",
    "df = df.merge(data_parsed, on='product')\n",
    "\n",
    "# выделим час покупки\n",
    "df['hour'] = df.date.dt.hour\n",
    "\n",
    "# выделим день недели и прибавим 1, чтобы понедельник был под номером 1\n",
    "df['weekday_number'] = df.date.dt.weekday + 1\n",
    "\n",
    "# переведем числа в буквы (день недели)\n",
    "df['weekday'] = df['weekday_number'].replace(1, 'Понедельник')\\\n",
    "\\\n",
    "    .replace(2, 'Вторник')\\\n",
    "\\\n",
    "    .replace(3, 'Среда')\\\n",
    "\\\n",
    "    .replace(4, 'Четверг')\\\n",
    "\\\n",
    "    .replace(5, 'Пятница')\\\n",
    "\\\n",
    "    .replace(6, 'Суббота')\\\n",
    "\\\n",
    "    .replace(7, 'Воскресенье')\\\n",
    "\n",
    "# выделим сезон покупки\n",
    "df['season'] = df.date.dt.month\\\n",
    "\\\n",
    "    .replace([12,1,2], 'Зима')\\\n",
    "\\\n",
    "    .replace([3,4,5], 'Весна')\\\n",
    "\\\n",
    "    .replace([6,7,8], 'Лето')\\\n",
    "\\\n",
    "    .replace([9,10,11], 'Осень')\n",
    "\n",
    "# выведем таблицу\n",
    "df.head(5)"
   ]
  },
  {
   "cell_type": "markdown",
   "metadata": {},
   "source": [
    "## Количество проданных товаров по категориям\n",
    "<a id=\"step5\"></a>\n",
    "<a href = '#section1'>Вернуться к оглавлению</a>"
   ]
  },
  {
   "cell_type": "markdown",
   "metadata": {},
   "source": [
    "Посмотрим на данные с стороны оборота. Посчитаем количество проданных товаров по категориям и выделим лидеров"
   ]
  },
  {
   "cell_type": "code",
   "execution_count": null,
   "metadata": {},
   "outputs": [],
   "source": [
    "# посчитаем общее количество проданных товаров по категориям\n",
    "# выведим график\n",
    "quantity_total = df.groupby('big_category')['quantity'].sum().reset_index().sort_values(by='quantity', ascending=False)\n",
    "\n",
    "fig = px.bar(quantity_total, x=\"big_category\", y=\"quantity\", color=\"big_category\", text='quantity')\n",
    "\n",
    "fig.update_layout(\n",
    "    title=\"Количество проданных товаров по категориям\",\n",
    "    xaxis_title=\"Категория\",\n",
    "    yaxis_title=\"Количество проданных товаров\")\n",
    "\n",
    "fig.update_traces(texttemplate='%{text:.2}', textposition='inside')\n",
    "\n",
    "fig.show()"
   ]
  },
  {
   "cell_type": "markdown",
   "metadata": {},
   "source": [
    "* __`Хозтовары - лидеры по количественным продажам`. За чуть больше года было продано 4016 товаров__. Такое лидерство могло быть обеспечено за счет заказа пользователем `312e9a3e-5fca-43ff-a6a1-892d2b2d5ba6` с заказом `71743` 1000 вантузов.\n",
    "* __`Интерьер и мебель` на втором месте. 2981 товаров за период с 2018-10-01 по 2019-10-31__. Лидерство категория, скорее всего, получила за счет продаж муляжей фруктов и овощей. Такие товары обычно заказывают в большом количестве\n",
    "* __`Рассада и саженцы` на третьем месте, 1887 предметов__. Рассада обычно продается сразу в большом количестве, поэтому лидерство обеспечено особенностью категории\n",
    "\n",
    "В топ 4-5 попали `Кухня` - 1603 товаров и `Живые растения` - 1578 товаров. \n",
    "\n",
    "Аутсайдеры по количеству продаж - `сад` - 377, `ванная` - 270, `спальня` - 73, `подарочные наборы` - 40. Аутсайдерство по количеству продаж не означает реальное отставание. Количество проданных товаров может быть обеспечено их ценой\n",
    "\n",
    "Посмотрим на выручку от товаров"
   ]
  },
  {
   "cell_type": "markdown",
   "metadata": {},
   "source": [
    "## Выручка по категориям\n",
    "<a id=\"step6\"></a>\n",
    "<a href = '#section1'>Вернуться к оглавлению</a>"
   ]
  },
  {
   "cell_type": "code",
   "execution_count": null,
   "metadata": {
    "scrolled": false
   },
   "outputs": [],
   "source": [
    "# посчитаем общую выручку по категориям\n",
    "# выведим график\n",
    "\n",
    "total_check = df.groupby('big_category')['total_check'].sum().reset_index().sort_values(by='total_check', ascending=False)\n",
    "\n",
    "fig = px.bar(total_check, x=\"big_category\", y=\"total_check\", color=\"big_category\", text='total_check')\n",
    "\n",
    "fig.update_layout(\n",
    "    title=\"Выручка по категориям\",\n",
    "    xaxis_title=\"Категория\",\n",
    "    yaxis_title=\"Общая выручка\")\n",
    "\n",
    "fig.update_traces(texttemplate='%{text:.2}', textposition='inside')\n",
    "\n",
    "fig.show()"
   ]
  },
  {
   "cell_type": "markdown",
   "metadata": {},
   "source": [
    "1. __Абсолютный лидер - `хозтовары` - 2.31 млн руб__. Скорее всего, лидерство было получено за счет больших и дорогих заказов. Например, 1000 вантузов по 675 рублей это 0.675 миллионов рублей, почти треть всей выручки по категории\n",
    "2. __`Кухня` по выручке вырвалась в топ на второе место, всего - 0.624 млн руб__. Это объясняется тем, что в категории `кухня` есть дорогие электротовары, например: пароварка, сковородка, чайник и тд\n",
    "3. __`Интерьер и мебель` на третьем месте в топе 0.373 млн руб.__ В топ по выручке, скорее всего, вырвались за счет большого объема продаж\n",
    "\n",
    "Затем лидерство по выручке гладко снижается. Живые растений - 0.271 млн руб, рассада и саженцы - 0.202 млн руб, ванная - 0.175 млн руб, спальня - 0.118 млн руб, сад - 0.055 и подарочные наборы - 0.008 млн руб."
   ]
  },
  {
   "cell_type": "markdown",
   "metadata": {},
   "source": [
    "## Количество проданных товаров по категориям по часам\n",
    "<a id=\"step7\"></a>\n",
    "<a href = '#section1'>Вернуться к оглавлению</a>"
   ]
  },
  {
   "cell_type": "code",
   "execution_count": null,
   "metadata": {
    "scrolled": false
   },
   "outputs": [],
   "source": [
    "counted_by_hour = df.groupby(['hour', 'big_category'])['quantity'].sum().reset_index().sort_values(by='hour')\n",
    "\n",
    "fig = px.bar(counted_by_hour, x=\"hour\", y='quantity', color=\"big_category\", text='quantity')\n",
    "\n",
    "fig.update_layout(\n",
    "    title=\"Количество проданных товаров по категориям по часам\",\n",
    "    xaxis_title=\"Час\",\n",
    "    yaxis_title=\"Количество товаров\")\n",
    "\n",
    "fig.update_traces(texttemplate='%{text:.2}', textposition='inside')\n",
    "fig.show()"
   ]
  },
  {
   "cell_type": "markdown",
   "metadata": {},
   "source": [
    "* Активные покупки начинаются после 7 часов утра. До этого времени люди мало редко оформляют заказы. После 23 часов объем покупок падает.\n",
    "* Пик покупок приходится на 11 и на 14 часов дня.\n",
    "* Больше всего покупок приходится на `Хозтовары` и `Интерьер и мебель`\n",
    "\n",
    "Топ по времени (по убыванию):\n",
    "* 00:00 - Интерьер и мебель, Живые растения, Рассада и саженцы\n",
    "* 01:00 - Интерьер и мебель, Живые растения, Хозтовары\n",
    "* 02:00 - Рассада и саженцы, Хозтовары\n",
    "* 03:00 - Хозтовары, Кухня\n",
    "* 04:00 - Хозтовары (большая часть), Живые растения\n",
    "* 05:00 - Кухня, Живые растения\n",
    "* 06:00 - Хозтовары, Интерьер и мебель, Подарочные наборы\n",
    "* 07:00 - Хозтовары\n",
    "* 08:00 - Интерьер и мебель (большая часть), Живые растения, Кухня, Рассада и саженцы, Хозтовары\n",
    "* 09:00 - Хозтовары, Интерьер и мебель, Живые растения\n",
    "* 10:00 - Хозтовары, Интерьер и мебель, Живые растения\n",
    "* 11:00 - Хозтовары, Интерьер и мебель, Рассада и саженцы\n",
    "* 12:00 - Рассада и саженцы, Хозтовары, Интерьер и мебель\n",
    "* 13:00 - Хозтовары, Интерьер и мебель, Живые растения, Рассада и саженцы\n",
    "* 14:00 - Хозтовары, Интерьер и мебель, Живые растения, Рассада и саженцы\n",
    "* 15:00 - Все категории, кроме ванной и подарочных наборов\n",
    "* 16:00 - Все категории, кроме ванной, подарочных наборов и сада\n",
    "* 17:00 - Хозтовары, Рассада и саженцы, Кухня\n",
    "* 18:00 - Кухня, Рассада и саженцы, Хозтовары, Интерьер и мебель, Живые растения\n",
    "* 19:00 - Кухня, Рассада и саженцы, Хозтовары, Интерьер и мебель, Живые растения\n",
    "* 20:00 - Хозтовары, Интерьер и мебель\n",
    "* 21:00 - Интерьер и мебель (большая часть), Рассада и саженцы, Живые растения\n",
    "* 22:00 - Хозтовары, Интерьер и мебель, Живые растения, Рассада и саженцы\n",
    "* 23:00 - Примерно все одинаково\n",
    "\n",
    "Посмотрим на количество покупок по дням недели:\n",
    "\n",
    "### Рекомендация: \n",
    "На общей странице на отдельном блоке, например, \"Рекомендуем\" продвигать товары в соответствии с временем. То есть в 7 часов все товары - хозтовары, в 5 часов продвигать в этом блоке товары \"Кухня\" и \"Живые растения\" и тд"
   ]
  },
  {
   "cell_type": "markdown",
   "metadata": {},
   "source": [
    "## Количество проданных товаров по категориям по дням недели\n",
    "<a id=\"step8\"></a>\n",
    "<a href = '#section1'>Вернуться к оглавлению</a>"
   ]
  },
  {
   "cell_type": "code",
   "execution_count": null,
   "metadata": {},
   "outputs": [],
   "source": [
    "counted_by_weekday = df.groupby(['weekday', 'weekday_number', 'big_category'])['quantity'].sum().reset_index().sort_values(by='weekday_number')\n",
    "\n",
    "fig = px.bar(counted_by_weekday, x=\"weekday\", y='quantity', color=\"big_category\", text='quantity')\n",
    "\n",
    "fig.update_layout(\n",
    "    title=\"Количество проданных товаров по категориям по дням недели\",\n",
    "    xaxis_title=\"День недели\",\n",
    "    yaxis_title=\"Количество товаров\")\n",
    "\n",
    "fig.update_traces(texttemplate='%{text:.2}', textposition='inside')\n",
    "fig.show()"
   ]
  },
  {
   "cell_type": "markdown",
   "metadata": {},
   "source": [
    "* Самые большие покупки - в будни. В выходные люди редко оформляют заказ. __Больше всего товаров продается в понедельник и вторник, четверг__. Есть смысл увеличивать рекламный бюджет в эти дни\n",
    "\n",
    "Топ по дням недели (по убыванию):\n",
    "* Понедельник - Хозтовары, Интерьер и мебель, Рассада и саженцы, Кухня\n",
    "* Вторник - Хозтовары (большая часть), Интерьер и мебель, Рассада и саженцы, Кухня\n",
    "* Среда - Хозтовары, Интерьер и мебель, Рассада и саженцы, Кухня, Живые растения\n",
    "* Четверг - Интерьер и мебель, Хозтовары, Кухня, Живые растения\n",
    "* Пятница - Хозтовары, Интерьер и мебель, Рассада и саженцы, Кухня\n",
    "* Суббота - Хозтовары, Рассада и саженцы, Кухня, Живые растения\n",
    "* Воскресенье - Интерьер и мебель, Рассада и саженцы, Хозтовары\n",
    "\n",
    "## Рекомендация:\n",
    "В блоке \"Рекомендуем\" учитывать популярность товаров по дня недели. Например, во вторник большой упор сделть на `хозтовары`, а в четверг на `интерьер и мебель`"
   ]
  },
  {
   "cell_type": "markdown",
   "metadata": {},
   "source": [
    "## Количество проданных товаров по категориям по сезонам\n",
    "<a id=\"step9\"></a>\n",
    "<a href = '#section1'>Вернуться к оглавлению</a>"
   ]
  },
  {
   "cell_type": "code",
   "execution_count": null,
   "metadata": {},
   "outputs": [],
   "source": [
    "counted_by_season = df.groupby(['season', 'big_category'])['quantity'].sum().reset_index().sort_values(by='quantity')\n",
    "\n",
    "fig = px.bar(counted_by_season, x=\"season\", y='quantity', color=\"big_category\", text='quantity')\n",
    "\n",
    "fig.update_layout(\n",
    "    title=\"Количество проданных товаров по категориям по сезонам\",\n",
    "    xaxis_title=\"День недели\",\n",
    "    yaxis_title=\"Количество товаров\")\n",
    "\n",
    "fig.update_traces(texttemplate='%{text:.2}', textposition='inside')\n",
    "\n",
    "fig.show()"
   ]
  },
  {
   "cell_type": "markdown",
   "metadata": {},
   "source": [
    "__Лидер по продажам - осень.__ \n",
    "\n",
    "__Осенью лучше всего продаются:__\n",
    "1. Хозтовары - 1585, после лета люди занимаются уборкой и облагораживают жилище перед зимой\n",
    "2. Интерьер и мебель - 1187, весной и осенью люди чаще всего обустраивают жилище\n",
    "3. Кухня - 726\n",
    "\n",
    "__Затем по топу следует весна. Лучше всего весной продаются:__\n",
    "1. Рассада и саженцы - 1299 , поскольку люди начинают готовить огород к лету. Осенью и зимой продвигать саженцы - нет смысла\n",
    "2. Интерьер и мебель - 922, весной и осенью люди чаще всего обустраивают жилище\n",
    "3. Живые растения - 733,поскольку люди начинают готовить огород к лету. Осенью и зимой продвигать живые растения - нет смысла\n",
    "\n",
    "__Зима. Лучше всего продается:__\n",
    "1. Хозтовары - 1035\n",
    "2. Интерьер и мебель - 545\n",
    "3. Кухня - 508\n",
    "\n",
    "__Лето, лучше всего:__\n",
    "1. Хозтовары - 711, \n",
    "2. Интерьер и мебель - 327\n",
    "3. Рассада и саженцы - 339\n",
    "\n",
    "Чтобы построить систему рекомендаций - нужно выделить людей в кластеры. Сначала выделим в кластеры людей на основе их покупок. Перед кластеризацией исключим выбросы, поскольку он будет путать алгоритм. Количество кластеров узнаем через дендограмму\n",
    "\n",
    "## Рекомендация\n",
    "В блоке \"Рекомендуем\" учитывать сезон при продвижении товаров. Например, весной лучше всего продвигать рассаду и саженцы"
   ]
  },
  {
   "cell_type": "markdown",
   "metadata": {},
   "source": [
    "# Кластеризация\n",
    "\n",
    "## Выделим и охарактеризуем кластеры\n",
    "<a id=\"step10\"></a>\n",
    "<a href = '#section1'>Вернуться к оглавлению</a>"
   ]
  },
  {
   "cell_type": "markdown",
   "metadata": {},
   "source": [
    "Перед кластеризацией удалим 0.5% аномально больших значений в количестве товаров\n",
    "\n",
    "Посмотрим дендограмму и оценим `silhouette` при разных количествах кластеров, чтобы выбрать подходящие"
   ]
  },
  {
   "cell_type": "code",
   "execution_count": null,
   "metadata": {},
   "outputs": [],
   "source": [
    "# удалим 0.5% аномальный значений по количеству товаров в заказе\n",
    "df= df[df['quantity'] < np.percentile(df['quantity'], 99.5)]\n",
    "\n",
    "# обязательная стандартизация данных перед работой с алгоритмами\n",
    "X = df[['quantity', 'price', 'total_check']]\n",
    "sc = StandardScaler()\n",
    "X_sc = sc.fit_transform(X)\n",
    "\n",
    "# расстояние\n",
    "linked = linkage(X_sc, method = 'ward')\n",
    "\n",
    "# Дендрограмма\n",
    "plt.figure(figsize=(15, 10))  \n",
    "dendrogram(linked, orientation='top')\n",
    "plt.show()\n",
    "\n",
    "for i in range(2,7):\n",
    "    # задаём модель k_means с числом кластеров 3\n",
    "    km = KMeans(n_clusters = i)\n",
    "    # прогнозируем кластеры для наблюдений (алгоритм присваивает им номера от 0 до 2)\n",
    "    labels = km.fit_predict(X_sc)\n",
    "\n",
    "    # сохраняем метки кластера в поле нашего датасета\n",
    "    df['cluster_km'] = labels\n",
    "    \n",
    "    print('Количество кластеров', i)\n",
    "    print('Silhouette_score: {:.5f}'.format(\n",
    "    silhouette_score(X_sc, labels)))\n",
    "    print('')"
   ]
  },
  {
   "cell_type": "markdown",
   "metadata": {},
   "source": [
    "Судя по дендограмме и Silhouette_score (чем ближе к 1, тем классификация наиболее реальная) - выделим 3 кластера"
   ]
  },
  {
   "cell_type": "code",
   "execution_count": null,
   "metadata": {},
   "outputs": [],
   "source": [
    "# задаём модель k_means с числом кластеров 3\n",
    "km = KMeans(n_clusters = 3)\n",
    "# прогнозируем кластеры для наблюдений (алгоритм присваивает им номера от 0 до 2)\n",
    "labels = km.fit_predict(X_sc)\n",
    "\n",
    "# сохраняем метки кластера в поле нашего датасета\n",
    "df['cluster_km'] = labels\n",
    "\n",
    "print('Silhouette_score: {:.2f}'.format(\n",
    "silhouette_score(X_sc, labels)))\n",
    "\n",
    "# создадим сводную таблицу по кластерам\n",
    "pivot_cluster = df.groupby('cluster_km')[['quantity', 'price', 'total_check']].mean()\n",
    "\n",
    "# поменяем названия столбцов\n",
    "pivot_cluster.columns = ['quantity_mean', 'price_mean', 'total_check_mean']\n",
    "\n",
    "# посчитаем суммарную выручку по кластерам\n",
    "pivot_cluster['total_revenue'] = df.groupby('cluster_km')['total_check'].sum()\n",
    "pivot_cluster['total_orders'] = df.groupby('cluster_km')['order_id'].nunique()\n",
    "pivot_cluster['total_users'] = df.groupby('cluster_km')['customer_id'].nunique()\n",
    "pivot_cluster['orders_per_user'] = pivot_cluster['total_orders']/pivot_cluster['total_users']\n",
    "pivot_cluster['revenue_per_order'] = pivot_cluster['total_revenue']/pivot_cluster['total_orders']\n",
    "\n",
    "pivot_cluster"
   ]
  },
  {
   "cell_type": "markdown",
   "metadata": {},
   "source": [
    "__0 кластер. Обозначим как \"рядовые клиенты\":__\n",
    "\n",
    "В первый кластер попали \"рядовые покупатели\". Обычные клиенты, которые приходят купить в среднем 1-2 недорогих товара по 336 рублей. В среднем их чек - 757 рублей. Суммарная выручка от таких клиентов 1 813 399 рублей, таких клиентов 2116 человек. Этот кластер приносит основной доход магазину\n",
    "\n",
    "* __Рекомендация__: продвигать товары общей категории, в которых пользователь уже совершал покупку. Ввести дисконтную программу, поскольку на одного пользователя чуть больше 1 заказа. Или проверить качество товаров. Предлагать офферы на дорогие товары с незначительной скидкой. Делать рассылки с дешевыми продаваемыми товарами любимой категории\n",
    "\n",
    "__1 кластер. Обозначим как \"дорогие клиенты\":__ \n",
    "\n",
    "Во второй кластер попали \"дорогие покупатели\". Такие покупатели покупают 1-2 товара в среднем за 3520 рублей, общий чек выходит в районе 4 198 рублей. Всего такие клиенты принесли больше половину выручки от обычных клиентов - 1 183 886 млн руб, при том что таких клиентов всего 241 человек\n",
    "\n",
    "* __Рекомендация__: продвигать товары общей категории, в которых пользователь уже совершал покупку. Ввести дисконтную программу, поскольку на одного пользователя чуть больше 1 заказа. Или проверить качество товаров. В корзине добавить \"Не забудьте\" с дешевыми товарами для увеличения количества проданных товаров. Делать рассылки с дорогими продаваемыми товарами любимой категории\n",
    "\n",
    "__2 кластер. Обозначим \"оптовики\":__\n",
    "\n",
    "В нулевой кластер попали \"оптовики\". Клиенты, которые купили очень много товаров. В среднем покупают 132 товара по 199 рублей, общий чек в среднем 13 298 рублей. Всего таких клиентов - 17, принесли они 239 371 рублей\n",
    "\n",
    "* __Рекомендация__: у оптовиков очень маленьких retention. Поэтому можно предложить программу покупать по \"оптовым ценам\"\n",
    "\n",
    "\n",
    "______"
   ]
  },
  {
   "cell_type": "markdown",
   "metadata": {},
   "source": [
    "## Система рекомендаций\n",
    "<a id=\"step11\"></a>\n",
    "<a href = '#section1'>Вернуться к оглавлению</a>"
   ]
  },
  {
   "cell_type": "markdown",
   "metadata": {},
   "source": [
    "Мы исходим из того, что человек, которые оформил заказ по одной из категорий, намного вероятнее оформит еще один заказ в этой же категории. \n",
    "В маркетинге есть выражение \"Намного дешевле привлечить старого клиента, чем нового\", также и с категориями даже в одном магазине. \n",
    "\n",
    "Также необходимо учесть, что мы объединяем по обобщенной категории, то есть в большой категории есть много смежных, которые наиболее вероятно заинтересуют покупателя. \n",
    "\n",
    "Составим категорию, где для каждого клиента добавим категории товаров по которым он оформлял заказ. Также добавим кластер. "
   ]
  },
  {
   "cell_type": "code",
   "execution_count": null,
   "metadata": {
    "scrolled": false
   },
   "outputs": [],
   "source": [
    "# составим категории\n",
    "pivot_category = df.groupby(['customer_id', 'big_category'])['big_category'].count().to_frame(name='cnt').reset_index()\n",
    "pivot_category = pivot_category.groupby('customer_id')['big_category'].apply(lambda x: ', '.join(x)).reset_index()\n",
    "\n",
    "pivot_category.columns = ['customer_id' ,'prefered_category']\n",
    "\n",
    "user_cluster = df.groupby('customer_id')['cluster_km'].mean().reset_index()\n",
    "cnt_orders = df.groupby('customer_id')['order_id'].count().to_frame(name='orders_cnt').reset_index()\n",
    "quantity_cnt = df.groupby('customer_id')['quantity'].sum().to_frame(name='quantity_cnt').reset_index()\n",
    "revenue_by_user = df.groupby('customer_id')['total_check'].sum().to_frame(name='revenue').reset_index()\n",
    "\n",
    "user_pivot = pivot_category\\\n",
    "    .merge(user_cluster, on='customer_id')\\\n",
    "    .merge(quantity_cnt, on='customer_id')\\\n",
    "    .merge(cnt_orders, on='customer_id')\\\n",
    "    .merge(revenue_by_user, on='customer_id')\n",
    "\n",
    "# преобразуем кластер в int\n",
    "user_pivot['cluster_km'] = user_pivot['cluster_km'].astype('int')\n",
    "\n",
    "user_pivot['revenue_per_order'] = round(user_pivot['revenue']/user_pivot['orders_cnt'], 1)\n",
    "user_pivot['quantity_per_order'] = user_pivot['quantity_cnt']/user_pivot['orders_cnt']\n",
    "\n",
    "user_pivot['cluster_km'] = user_pivot['cluster_km']\\\n",
    "    .replace(0, 'Обычный клиент')\\\n",
    "    .replace(1, 'Дорогой клиент')\\\n",
    "    .replace(2, 'Оптовик')\n",
    "\n",
    "user_pivot"
   ]
  },
  {
   "cell_type": "markdown",
   "metadata": {},
   "source": [
    "Для каждого клиента выделили предпочитаемую категорию, среднее количество предметов в заказе, стоимость заказа, кластер. По этим данным данным можно подобрать товар по типичным характеристикам и предложить для покупки"
   ]
  },
  {
   "cell_type": "markdown",
   "metadata": {},
   "source": [
    "____"
   ]
  },
  {
   "cell_type": "markdown",
   "metadata": {},
   "source": [
    "# Гипотезы\n",
    "<a id=\"step12\"></a>\n",
    "<a href = '#section1'>Вернуться к оглавлению</a>"
   ]
  },
  {
   "cell_type": "markdown",
   "metadata": {},
   "source": [
    "Оценим влияние времени и сезона на чек\n",
    "\n",
    "### 1 гипотеза\n",
    "\n",
    "* H0: Чек статистически не отличается в первую и вторую половину дня\n",
    "* H1: Чек статистически отличается\n",
    "\n",
    "Альфа = 5%"
   ]
  },
  {
   "cell_type": "code",
   "execution_count": null,
   "metadata": {},
   "outputs": [],
   "source": [
    "first_half = df[df['hour'] < 12]['total_check'].head(1500)\n",
    "second_half = df[df['hour'] >= 12]['total_check'].head(1500)\n",
    "\n",
    "alpha = 0.05  # критический уровень статистической значимости\n",
    "\n",
    "results = st.mannwhitneyu(first_half, second_half)\n",
    "\n",
    "print('p-значение: ', results.pvalue)\n",
    "\n",
    "if results.pvalue < alpha:\n",
    "    print(\"Отвергаем нулевую гипотезу\")\n",
    "else:\n",
    "    print(\"Не получилось отвергнуть нулевую гипотезу\")\n",
    "    \n",
    "print('')\n",
    "print ('Средний чек в первой половине дня: {:.1f} рублей'.format(df[df['hour'] < 12]['total_check'].head(1500).mean()))\n",
    "print ('Средний чек в второй половине дня: {:.1f} рублей'.format(df[df['hour'] >= 12]['total_check'].head(1500).mean()))"
   ]
  },
  {
   "cell_type": "markdown",
   "metadata": {},
   "source": [
    "Отвергаем нулевую гипотезу, чек статистически отличается в первой и второй половине дня. По наблюдаемым значения чек во второй половине дня примерно на 10% больше\n",
    "___"
   ]
  },
  {
   "cell_type": "markdown",
   "metadata": {},
   "source": [
    "### 2 гипотеза\n",
    "\n",
    "* H0: Чек статистически не отличается из сезона в сезон\n",
    "* H1: Чек статистически отличается\n",
    "\n",
    "Альфа = 5% с поправкой на Бонеферрони / 6 тестов"
   ]
  },
  {
   "cell_type": "code",
   "execution_count": null,
   "metadata": {},
   "outputs": [],
   "source": [
    "osen = df[df['season'] == 'Осень']['total_check'].head(820)\n",
    "zima = df[df['season'] == 'Зима']['total_check'].head(820)\n",
    "leto = df[df['season'] == 'Лето']['total_check'].head(820)\n",
    "vesna = df[df['season'] == 'Весна']['total_check'].head(820)\n",
    "\n",
    "print ('Средний чек осенью {:.1f} рублей'.format(osen.mean()))\n",
    "print ('Средний чек зимой {:.1f} рублей'.format(zima.mean()))\n",
    "print ('Средний чек летом {:.1f} рублей'.format(leto.mean()))\n",
    "print ('Средний чек весной {:.1f} рублей'.format(vesna.mean()))\n",
    "print ('')\n",
    "\n",
    "alpha = 0.05  # критический уровень статистической значимости\n",
    "\n",
    "results_os_zi = st.mannwhitneyu(osen, zima)\n",
    "results_os_le = st.mannwhitneyu(osen, leto)\n",
    "results_os_ve = st.mannwhitneyu(osen, vesna)\n",
    "results_zi_le = st.mannwhitneyu(zima, leto)\n",
    "results_zi_ve = st.mannwhitneyu(zima, vesna)\n",
    "results_ve_le = st.mannwhitneyu(vesna, leto)\n",
    "\n",
    "bonferroni_alpha = alpha / 6  # произведено три сравнения\n",
    "\n",
    "print('p-значение для сравнения групп осень и зима: ', (results_os_zi.pvalue).round(5))\n",
    "print('p-значение для сравнения групп осень и лето: ', (results_os_le.pvalue).round(5))\n",
    "print('p-значение для сравнения групп осень и весна: ', (results_os_ve.pvalue).round(5))\n",
    "print('p-значение для сравнения групп зима и лето: ', (results_zi_le.pvalue).round(5))\n",
    "print('p-значение для сравнения групп зима и весна: ', (results_zi_ve.pvalue).round(5))\n",
    "print('p-значение для сравнения групп весна и лето: ', (results_ve_le.pvalue).round(5))\n",
    "\n",
    "print('')\n",
    "\n",
    "if results_os_zi.pvalue < bonferroni_alpha:\n",
    "    print('Отвергаем нулевую гипотезу для сравнения групп осень и зима')\n",
    "else:\n",
    "    print('Не получилось отвергнуть нулевую гипотезу для сравнения групп групп осень и зима')\n",
    "\n",
    "if results_os_le.pvalue < bonferroni_alpha:\n",
    "    print('Отвергаем нулевую гипотезу для сравнения групп осень и лето')\n",
    "else:\n",
    "    print('Не получилось отвергнуть нулевую гипотезу для сравнения групп осень и лето')\n",
    "\n",
    "if results_os_ve.pvalue < bonferroni_alpha:\n",
    "    print('Отвергаем нулевую гипотезу для сравнения групп осень и весна')\n",
    "else:\n",
    "    print('Не получилось отвергнуть нулевую гипотезу для сравнения групп осень и весна')\n",
    "    \n",
    "if results_zi_le.pvalue < bonferroni_alpha:\n",
    "    print('Отвергаем нулевую гипотезу для сравнения групп групп зима и лето')\n",
    "else:\n",
    "    print('Не получилось отвергнуть нулевую гипотезу для сравнения групп зима и лето')\n",
    "\n",
    "if results_zi_ve.pvalue < bonferroni_alpha:\n",
    "    print('Отвергаем нулевую гипотезу для сравнения групп зима и весна')\n",
    "else:\n",
    "    print('Не получилось отвергнуть нулевую гипотезу для сравнения групп зима и весна')\n",
    "\n",
    "if results_ve_le.pvalue < bonferroni_alpha:\n",
    "    print('Отвергаем нулевую гипотезу для сравнения групп весна и лето')\n",
    "else:\n",
    "    print('Не получилось отвергнуть нулевую гипотезу для сравнения групп весна и лето')"
   ]
  },
  {
   "cell_type": "markdown",
   "metadata": {},
   "source": [
    "Почти все сезоны, кроме осени и лета, имеют статистически разные чеки. При этом осенью заказов больше, поэтому прибыль осенью больше, чем летом"
   ]
  },
  {
   "cell_type": "markdown",
   "metadata": {},
   "source": [
    "_________"
   ]
  },
  {
   "cell_type": "markdown",
   "metadata": {},
   "source": [
    "# Выводы и рекомендации\n",
    "<a id=\"step13\"></a>\n",
    "<a href = '#section1'>Вернуться к оглавлению</a>\n",
    "\n",
    "* __Дорогие покупатели в пропорции на человека приносят наибольший доход - 4341 рублей__. При этом среднее количество заказов на 1 человека 1,14. Необходимо проверить качество товаров или ввести дисконтную программу, чтобы люди чаще возвращались за покупками\n",
    "\n",
    "* __Обычные покупатели в пропорции на одного человека приносят наименьший доход - 757 рублей__, но из-за большого количества таких покупателей - они являются самым доходным кластером\n",
    "\n",
    "* __Оптовики почти никогда не заказывают повторно__. Возможно стоит предложить им \"оптовые цены\" за определенное количество товаров, чтобы они чаще возвращались, поскольку на оптовики в среднем на одного человека(организацию) приносят 2200 рублей\n",
    "\n",
    "* __На главной странице и на странице карточки товара создать блок с товарами \"Рекомендуем\"__, где будут отображаться товары в зависимости от дня, часа, сезона\n",
    "\n",
    "* __Для каждого человека создать собственную ленту рекомендаций__ в зависимости от кластера, средней цены покупки, предпочитаемой категории\n",
    "\n",
    "* Почти все сезоны, кроме осени и лета, имеют статистически одинаковые чеки. При этом осенью заказов больше, поэтому прибыль осенью больше, чем летом\n",
    "\n",
    "* Чек статистически отличается в первой и второй половине дня. По наблюдаемым значения чек во второй половине дня примерно на 10% больше"
   ]
  },
  {
   "cell_type": "code",
   "execution_count": null,
   "metadata": {},
   "outputs": [],
   "source": []
  }
 ],
 "metadata": {
  "kernelspec": {
   "display_name": "Python 3",
   "language": "python",
   "name": "python3"
  },
  "language_info": {
   "codemirror_mode": {
    "name": "ipython",
    "version": 3
   },
   "file_extension": ".py",
   "mimetype": "text/x-python",
   "name": "python",
   "nbconvert_exporter": "python",
   "pygments_lexer": "ipython3",
   "version": "3.7.8"
  },
  "toc": {
   "base_numbering": 1,
   "nav_menu": {},
   "number_sections": true,
   "sideBar": true,
   "skip_h1_title": true,
   "title_cell": "Table of Contents",
   "title_sidebar": "Contents",
   "toc_cell": false,
   "toc_position": {},
   "toc_section_display": true,
   "toc_window_display": false
  }
 },
 "nbformat": 4,
 "nbformat_minor": 4
}
